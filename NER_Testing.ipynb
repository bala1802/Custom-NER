{
 "cells": [
  {
   "cell_type": "code",
   "execution_count": 1,
   "metadata": {},
   "outputs": [],
   "source": [
    "import spacy"
   ]
  },
  {
   "cell_type": "code",
   "execution_count": 3,
   "metadata": {},
   "outputs": [],
   "source": [
    "nlp_trained_model = spacy.load(\"model-best\")"
   ]
  },
  {
   "cell_type": "code",
   "execution_count": 4,
   "metadata": {},
   "outputs": [
    {
     "data": {
      "text/plain": [
       "spacy.lang.en.English"
      ]
     },
     "execution_count": 4,
     "metadata": {},
     "output_type": "execute_result"
    }
   ],
   "source": [
    "type(nlp_trained_model)"
   ]
  },
  {
   "cell_type": "code",
   "execution_count": null,
   "metadata": {},
   "outputs": [],
   "source": [
    "doc = nlp_trained_model('''\n",
    "The patient was prescribed Aspirin for their heart condition.\n",
    "The doctor recommended Ibuprofen to alleviate the patient's headache.\n",
    "The patient is suffering from diabetes, and they need to take Metformin regularly.\n",
    "After the surgery, the patient experienced some post-operative complications, including infection.\n",
    "The patient is currently on a regimen of Lisinopril to manage their high blood pressure.\n",
    "The antibiotic course for treating the bacterial infection should be completed as prescribed.\n",
    "The patient's insulin dosage needs to be adjusted to better control their blood sugar levels.\n",
    "The physician suspects that the patient may have pneumonia and has ordered a chest X-ray.\n",
    "The patient's cholesterol levels are high, and they have been advised to take Atorvastatin.\n",
    "The allergy to penicillin was noted in the patient's medical history.\n",
    "''')"
   ]
  }
 ],
 "metadata": {
  "kernelspec": {
   "display_name": "venv_custom_ner",
   "language": "python",
   "name": "python3"
  },
  "language_info": {
   "codemirror_mode": {
    "name": "ipython",
    "version": 3
   },
   "file_extension": ".py",
   "mimetype": "text/x-python",
   "name": "python",
   "nbconvert_exporter": "python",
   "pygments_lexer": "ipython3",
   "version": "3.10.13"
  },
  "orig_nbformat": 4
 },
 "nbformat": 4,
 "nbformat_minor": 2
}
